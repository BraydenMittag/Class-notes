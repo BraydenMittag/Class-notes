{
  "nbformat": 4,
  "nbformat_minor": 0,
  "metadata": {
    "colab": {
      "provenance": [],
      "authorship_tag": "ABX9TyNSFsb4A/k1LAmSAMnR3tid",
      "include_colab_link": true
    },
    "kernelspec": {
      "name": "python3",
      "display_name": "Python 3"
    },
    "language_info": {
      "name": "python"
    }
  },
  "cells": [
    {
      "cell_type": "markdown",
      "metadata": {
        "id": "view-in-github",
        "colab_type": "text"
      },
      "source": [
        "<a href=\"https://colab.research.google.com/github/BraydenMittag/Class-notes/blob/main/Untitled0.ipynb\" target=\"_parent\"><img src=\"https://colab.research.google.com/assets/colab-badge.svg\" alt=\"Open In Colab\"/></a>"
      ]
    },
    {
      "cell_type": "code",
      "execution_count": 6,
      "metadata": {
        "id": "N_kn24mQQhEl"
      },
      "outputs": [],
      "source": [
        "import math\n",
        "\n",
        "def get_potential_energy_rigid_pendulum (theta, m, g, l):\n",
        "  \"\"\"\n",
        "  calculates the potential energy for rigid pendulum.\n",
        "  \"\"\"\n",
        "  return m * g * l * (1-math.cos(theta))\n"
      ]
    },
    {
      "cell_type": "code",
      "source": [
        "print(get_potential_energy_rigid_pendulum(math.pi, 1, 9.8, 1))\n",
        "print(get_potential_energy_rigid_pendulum(theta=math.pi, m=1, g=9.8, l=1))\n",
        "print(get_potential_energy_rigid_pendulum(theta=math.pi, g=9.8, m=1, l=1))\n",
        "print"
      ],
      "metadata": {
        "colab": {
          "base_uri": "https://localhost:8080/"
        },
        "id": "b8cjRUspRKL9",
        "outputId": "46284346-4994-44fa-e137-e4697dff7098"
      },
      "execution_count": 13,
      "outputs": [
        {
          "output_type": "stream",
          "name": "stdout",
          "text": [
            "19.6\n",
            "19.6\n",
            "19.6\n"
          ]
        },
        {
          "output_type": "execute_result",
          "data": {
            "text/plain": [
              "<function print(*args, sep=' ', end='\\n', file=None, flush=False)>"
            ]
          },
          "metadata": {},
          "execution_count": 13
        }
      ]
    },
    {
      "cell_type": "code",
      "source": [
        "# look at new objects called lists\n",
        "my_list = [1, 2, 3, 4, 5]\n",
        "print(len(my_list)) # access length of list\n",
        "\n",
        "my_list[0:5:1] #syntax is starting index:ending index +1 index:spacing\n",
        "my_list[5:0:-2]\n",
        "\n",
        "#type(my_list)\n",
        "my_list?"
      ],
      "metadata": {
        "colab": {
          "base_uri": "https://localhost:8080/"
        },
        "id": "Dawx0hWASzSi",
        "outputId": "fcca6054-49fb-4f85-8ef2-609a8137bb2d"
      },
      "execution_count": 33,
      "outputs": [
        {
          "output_type": "stream",
          "name": "stdout",
          "text": [
            "5\n"
          ]
        }
      ]
    },
    {
      "cell_type": "code",
      "source": [
        "# define tuple\n",
        "my_tuple = (1,2,3,4,5)\n",
        "print(my_tuple[0:4:1])\n",
        "\n",
        "type(my_tuple)\n",
        "tuple?"
      ],
      "metadata": {
        "colab": {
          "base_uri": "https://localhost:8080/"
        },
        "id": "MhIc0hR7U3_Q",
        "outputId": "63bb9fe5-ed2d-4b3e-bd3d-e4776dac8a2d"
      },
      "execution_count": 37,
      "outputs": [
        {
          "output_type": "stream",
          "name": "stdout",
          "text": [
            "(1, 2, 3, 4)\n"
          ]
        }
      ]
    },
    {
      "cell_type": "code",
      "source": [
        " # use help, dir, tab-completion\n",
        " #lists are mutable --> we can edit list after it is defined\n",
        " #tuples are immutable --> everything is fixed, once defined\n",
        ""
      ],
      "metadata": {
        "id": "teRe1thEVUWz"
      },
      "execution_count": 48,
      "outputs": []
    }
  ]
}