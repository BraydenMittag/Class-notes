{
  "nbformat": 4,
  "nbformat_minor": 0,
  "metadata": {
    "colab": {
      "provenance": [],
      "authorship_tag": "ABX9TyMcHhsEQND/REXlRgrlRqFb",
      "include_colab_link": true
    },
    "kernelspec": {
      "name": "python3",
      "display_name": "Python 3"
    },
    "language_info": {
      "name": "python"
    }
  },
  "cells": [
    {
      "cell_type": "markdown",
      "metadata": {
        "id": "view-in-github",
        "colab_type": "text"
      },
      "source": [
        "<a href=\"https://colab.research.google.com/github/BraydenMittag/Class-notes/blob/main/Notes_9_16_2025.ipynb\" target=\"_parent\"><img src=\"https://colab.research.google.com/assets/colab-badge.svg\" alt=\"Open In Colab\"/></a>"
      ]
    },
    {
      "cell_type": "code",
      "execution_count": 15,
      "metadata": {
        "colab": {
          "base_uri": "https://localhost:8080/"
        },
        "id": "6cmaCK9E8wRH",
        "outputId": "bfa47969-5154-4107-d6f8-bf86d754a5ab"
      },
      "outputs": [
        {
          "output_type": "stream",
          "name": "stdout",
          "text": [
            "list constructed with a throwaway index\n",
            "     index          x\n",
            "         0,   0.000000\n",
            "         1,   0.010000\n",
            "         2,   0.020000\n",
            "         3,   0.030000\n",
            "         4,   0.040000\n",
            "         5,   0.050000\n",
            "         6,   0.060000\n",
            "         7,   0.070000\n",
            "         8,   0.080000\n",
            "         9,   0.090000\n",
            "        10,   0.100000\n"
          ]
        }
      ],
      "source": [
        "# from last time\n",
        "\n",
        "# for loop with the syntac for\n",
        "# {iterator} and in {iterable}:\n",
        "# {do this stuff}\n",
        "# we used the `.append` feature of lists\n",
        "\n",
        "x = [] #initializinf as a n empty list\n",
        "inc = 0.01 #some increment\n",
        "for i in range(10):\n",
        "  x.append(inc * i)\n",
        "\n",
        "# for loop with throwaway index/ dummy index\n",
        "x = [0] #set x with an initial value\n",
        "inc = 0.01\n",
        "for _ in range(10):\n",
        "  x.append(x[-1] + inc)\n",
        "\n",
        "\n",
        "# clean up the print\n",
        "# f-print literal\n",
        "print('list constructed with a throwaway index')\n",
        "print(f\"{'index':>10s}\", f\"{'x':>10s}\")\n",
        "for i in range(len(x)):\n",
        "  print(f\"{i:10d}, {x[i]:10.6f}\")\n"
      ]
    },
    {
      "cell_type": "code",
      "source": [
        "# list comprehension --> one-line approach to a for loop for variable/list assingment\n",
        "# [{expressiong to evaluate} for {iterator} in {iterable}]\n",
        "inc = 0.01\n",
        "x = [i * inc for i in range(10)]\n",
        "print(x)"
      ],
      "metadata": {
        "colab": {
          "base_uri": "https://localhost:8080/"
        },
        "id": "Y--YTUEg99xG",
        "outputId": "12fe50af-4c85-4b08-e95e-5d0e0a525e2b"
      },
      "execution_count": 13,
      "outputs": [
        {
          "output_type": "stream",
          "name": "stdout",
          "text": [
            "[0.0, 0.01, 0.02, 0.03, 0.04, 0.05, 0.06, 0.07, 0.08, 0.09]\n"
          ]
        }
      ]
    }
  ]
}